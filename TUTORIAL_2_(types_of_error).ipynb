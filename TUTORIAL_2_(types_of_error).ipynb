{
  "nbformat": 4,
  "nbformat_minor": 0,
  "metadata": {
    "colab": {
      "name": "TUTORIAL 2 (types of error).ipynb",
      "provenance": [],
      "authorship_tag": "ABX9TyM5OyJu828/mN9UUOBSQWLm",
      "include_colab_link": true
    },
    "kernelspec": {
      "name": "python3",
      "display_name": "Python 3"
    }
  },
  "cells": [
    {
      "cell_type": "markdown",
      "metadata": {
        "id": "view-in-github",
        "colab_type": "text"
      },
      "source": [
        "<a href=\"https://colab.research.google.com/github/Shambhavi-Gupta/Tutorial2_types-of-error/blob/main/TUTORIAL_2_(types_of_error).ipynb\" target=\"_parent\"><img src=\"https://colab.research.google.com/assets/colab-badge.svg\" alt=\"Open In Colab\"/></a>"
      ]
    },
    {
      "cell_type": "markdown",
      "metadata": {
        "id": "4j3vwT2RSgAT"
      },
      "source": [
        "#**DIFFERENCE IN LOGICAL , SYNTAX & RUN-TIME ERROR**\n",
        "\n",
        "##**LOGICAL ERROR** : This is the type of error in which your code will run and will not get an error in compiling but will not get the desired output.\n",
        "\n",
        "##**SYNTAX ERROR** : These errors are like missing punctuation error, missing a bracket , missing closed paranthesis etc.\n",
        "\n",
        "##**RUN-TIME ERROR** : These errors are such as dividing a number by zero , taking square root of a negative number etc."
      ]
    },
    {
      "cell_type": "code",
      "metadata": {
        "id": "qA-MgGp2MlSl",
        "colab": {
          "base_uri": "https://localhost:8080/"
        },
        "outputId": "a689cba2-2271-4cc6-9ba2-9ec3431fd0fd"
      },
      "source": [
        "print('Coding for begineers in easy step')"
      ],
      "execution_count": null,
      "outputs": [
        {
          "output_type": "stream",
          "text": [
            "Coding for begineers in easy step\n"
          ],
          "name": "stdout"
        }
      ]
    },
    {
      "cell_type": "code",
      "metadata": {
        "id": "keNvdaCYNb2t",
        "colab": {
          "base_uri": "https://localhost:8080/"
        },
        "outputId": "3b3e72cc-7ec2-4827-ae4d-ca47a776c841"
      },
      "source": [
        "a = 2\n",
        "b = 4\n",
        "if(a > b) :\n",
        "    print(a)\n",
        "else :\n",
        "    print(b)    "
      ],
      "execution_count": null,
      "outputs": [
        {
          "output_type": "stream",
          "text": [
            "4\n"
          ],
          "name": "stdout"
        }
      ]
    },
    {
      "cell_type": "code",
      "metadata": {
        "id": "KdE14VfKNoB8",
        "colab": {
          "base_uri": "https://localhost:8080/"
        },
        "outputId": "8df2abb1-5f41-42d8-b421-e3625f548852"
      },
      "source": [
        "print (\"subscribe fun with data science\")\n"
      ],
      "execution_count": null,
      "outputs": [
        {
          "output_type": "stream",
          "text": [
            "subscribe fun with data science\n"
          ],
          "name": "stdout"
        }
      ]
    },
    {
      "cell_type": "code",
      "metadata": {
        "id": "OfiyE_jjPRSu",
        "colab": {
          "base_uri": "https://localhost:8080/"
        },
        "outputId": "cdb2bb56-38d6-46bd-a41d-e9dc7c356f18"
      },
      "source": [
        "if 2==3 :\n",
        "    print('hello')\n",
        "elif 2==2 :\n",
        "    print('good bye')    "
      ],
      "execution_count": null,
      "outputs": [
        {
          "output_type": "stream",
          "text": [
            "good bye\n"
          ],
          "name": "stdout"
        }
      ]
    },
    {
      "cell_type": "code",
      "metadata": {
        "id": "oWuVd0znPx-s",
        "colab": {
          "base_uri": "https://localhost:8080/",
          "height": 262
        },
        "outputId": "125c0f3e-4e48-4494-ae25-aedfad5a7175"
      },
      "source": [
        "x = float(input('Enter a number: '))\n",
        "y = float(input('Enter a number: '))\n",
        "z = x/y\n",
        "                                                        #RUN-TIME ERROR\n",
        "print (x,'divided by',y,'equals: ',z)"
      ],
      "execution_count": null,
      "outputs": [
        {
          "output_type": "stream",
          "text": [
            "Enter a number: 3.0\n",
            "Enter a number: 0\n"
          ],
          "name": "stdout"
        },
        {
          "output_type": "error",
          "ename": "ZeroDivisionError",
          "evalue": "ignored",
          "traceback": [
            "\u001b[0;31m---------------------------------------------------------------------------\u001b[0m",
            "\u001b[0;31mZeroDivisionError\u001b[0m                         Traceback (most recent call last)",
            "\u001b[0;32m<ipython-input-24-274d50300909>\u001b[0m in \u001b[0;36m<module>\u001b[0;34m()\u001b[0m\n\u001b[1;32m      1\u001b[0m \u001b[0mx\u001b[0m \u001b[0;34m=\u001b[0m \u001b[0mfloat\u001b[0m\u001b[0;34m(\u001b[0m\u001b[0minput\u001b[0m\u001b[0;34m(\u001b[0m\u001b[0;34m'Enter a number: '\u001b[0m\u001b[0;34m)\u001b[0m\u001b[0;34m)\u001b[0m\u001b[0;34m\u001b[0m\u001b[0;34m\u001b[0m\u001b[0m\n\u001b[1;32m      2\u001b[0m \u001b[0my\u001b[0m \u001b[0;34m=\u001b[0m \u001b[0mfloat\u001b[0m\u001b[0;34m(\u001b[0m\u001b[0minput\u001b[0m\u001b[0;34m(\u001b[0m\u001b[0;34m'Enter a number: '\u001b[0m\u001b[0;34m)\u001b[0m\u001b[0;34m)\u001b[0m\u001b[0;34m\u001b[0m\u001b[0;34m\u001b[0m\u001b[0m\n\u001b[0;32m----> 3\u001b[0;31m \u001b[0mz\u001b[0m \u001b[0;34m=\u001b[0m \u001b[0mx\u001b[0m\u001b[0;34m/\u001b[0m\u001b[0my\u001b[0m\u001b[0;34m\u001b[0m\u001b[0;34m\u001b[0m\u001b[0m\n\u001b[0m\u001b[1;32m      4\u001b[0m                                                         \u001b[0;31m#RUN-TIME ERROR\u001b[0m\u001b[0;34m\u001b[0m\u001b[0;34m\u001b[0m\u001b[0;34m\u001b[0m\u001b[0m\n\u001b[1;32m      5\u001b[0m \u001b[0mprint\u001b[0m \u001b[0;34m(\u001b[0m\u001b[0mx\u001b[0m\u001b[0;34m,\u001b[0m\u001b[0;34m'divided by'\u001b[0m\u001b[0;34m,\u001b[0m\u001b[0my\u001b[0m\u001b[0;34m,\u001b[0m\u001b[0;34m'equals: '\u001b[0m\u001b[0;34m,\u001b[0m\u001b[0mz\u001b[0m\u001b[0;34m)\u001b[0m\u001b[0;34m\u001b[0m\u001b[0;34m\u001b[0m\u001b[0m\n",
            "\u001b[0;31mZeroDivisionError\u001b[0m: float division by zero"
          ]
        }
      ]
    },
    {
      "cell_type": "code",
      "metadata": {
        "id": "UQXVPgxWSB2Z",
        "colab": {
          "base_uri": "https://localhost:8080/"
        },
        "outputId": "caecd259-67ce-4614-ec9a-374515e80dd7"
      },
      "source": [
        "x = float(input('Enter a number: '))                 #LOGICAL ERROR\n",
        "y = float(input('Enter a number: '))\n",
        "                                         # x + y/2   4 +2/2\n",
        "                                         # (4+2)/2\n",
        "z = (x+y)/2\n",
        "print ('The average of the two numbers you have entered is:',z)         "
      ],
      "execution_count": null,
      "outputs": [
        {
          "output_type": "stream",
          "text": [
            "Enter a number: 4\n",
            "Enter a number: 2\n",
            "The average of the two numbers you have entered is: 3.0\n"
          ],
          "name": "stdout"
        }
      ]
    },
    {
      "cell_type": "code",
      "metadata": {
        "id": "jzNeB3wTSDrg"
      },
      "source": [
        ""
      ],
      "execution_count": null,
      "outputs": []
    }
  ]
}